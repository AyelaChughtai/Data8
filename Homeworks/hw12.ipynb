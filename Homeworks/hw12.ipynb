{
 "cells": [
  {
   "cell_type": "code",
   "execution_count": 5,
   "metadata": {
    "deletable": false,
    "editable": false
   },
   "outputs": [
    {
     "name": "stdout",
     "output_type": "stream",
     "text": [
      "=====================================================================\n",
      "Assignment: Homework 12: Classification\n",
      "OK, version v1.12.5\n",
      "=====================================================================\n",
      "\n"
     ]
    }
   ],
   "source": [
    "# Initialize OK\n",
    "from client.api.notebook import Notebook\n",
    "ok = Notebook('hw12.ok')"
   ]
  },
  {
   "cell_type": "markdown",
   "metadata": {},
   "source": [
    "# Homework 12: Classification"
   ]
  },
  {
   "cell_type": "markdown",
   "metadata": {},
   "source": [
    "**Reading**: \n",
    "\n",
    "* [Classification](https://www.inferentialthinking.com/chapters/17/classification.html)"
   ]
  },
  {
   "cell_type": "markdown",
   "metadata": {},
   "source": [
    "Please complete this notebook by filling in the cells provided. Before you begin, execute the following cell to load the provided tests. Each time you start your server, you will need to execute this cell again to load the tests.\n",
    "\n",
    "Homework 12 is due **Thursday, 5/2 at 11:59pm**. You will receive an early submission bonus point if you turn in your final submission by Wednesday, 5/1 at 11:59pm. Start early so that you can come to office hours if you're stuck. Check the website for the office hours schedule. Late work will not be accepted as per the [policies](http://data8.org/sp19/policies.html) of this course. \n",
    "\n",
    "Directly sharing answers is not okay, but discussing problems with the course staff or with other students is encouraged. Refer to the policies page to learn more about how to learn cooperatively.\n",
    "\n",
    "For all problems that you must write our explanations and sentences for, you **must** provide your answer in the designated space. Moreover, throughout this homework and all future ones, please be sure to not re-assign variables throughout the notebook! For example, if you use `max_temperature` in your answer to one question, do not reassign it later on."
   ]
  },
  {
   "cell_type": "code",
   "execution_count": 6,
   "metadata": {
    "ExecuteTime": {
     "end_time": "2018-04-11T12:12:38.902167Z",
     "start_time": "2018-04-11T12:12:38.883124Z"
    }
   },
   "outputs": [
    {
     "name": "stdout",
     "output_type": "stream",
     "text": [
      "=====================================================================\n",
      "Assignment: Homework 12: Classification\n",
      "OK, version v1.12.5\n",
      "=====================================================================\n",
      "\n"
     ]
    }
   ],
   "source": [
    "# Don't change this cell; just run it. \n",
    "\n",
    "import numpy as np\n",
    "from datascience import *\n",
    "\n",
    "# These lines do some fancy plotting magic.\n",
    "import matplotlib\n",
    "%matplotlib inline\n",
    "import matplotlib.pyplot as plt\n",
    "plt.style.use('fivethirtyeight')\n",
    "import warnings\n",
    "warnings.simplefilter('ignore', FutureWarning)\n",
    "from matplotlib import patches\n",
    "from ipywidgets import interact, interactive, fixed\n",
    "import ipywidgets as widgets\n",
    "\n",
    "from client.api.notebook import Notebook\n",
    "ok = Notebook('hw12.ok')"
   ]
  },
  {
   "cell_type": "markdown",
   "metadata": {},
   "source": [
    "## 1. Reading Sign Language with Classification\n"
   ]
  },
  {
   "cell_type": "markdown",
   "metadata": {},
   "source": [
    "Brazilian Sign Language is a visual language used primarily by Brazilians who are deaf.  It is more commonly called Libras.  People who communicate with visual language are called *signers*.  Here is a video of someone signing in Libras:"
   ]
  },
  {
   "cell_type": "code",
   "execution_count": 7,
   "metadata": {},
   "outputs": [
    {
     "data": {
      "image/jpeg": "[encoded data removed]",
      "text/html": [
       "\n",
       "        <iframe\n",
       "            width=\"400\"\n",
       "            height=\"300\"\n",
       "            src=\"https://www.youtube.com/embed/mhIcuMZmyWM\"\n",
       "            frameborder=\"0\"\n",
       "            allowfullscreen\n",
       "        ></iframe>\n",
       "        "
      ],
      "text/plain": [
       "<IPython.lib.display.YouTubeVideo at 0x7f4aeb5f4d30>"
      ]
     },
     "execution_count": 7,
     "metadata": {},
     "output_type": "execute_result"
    }
   ],
   "source": [
    "from IPython.lib.display import YouTubeVideo\n",
    "YouTubeVideo(\"mhIcuMZmyWM\")"
   ]
  },
  {
   "cell_type": "markdown",
   "metadata": {},
   "source": [
    "Programs like Siri or Google Now begin the process of understanding human speech by classifying short clips of raw sound into basic categories called *phones*.  For example, the recorded sound of someone saying the word \"robot\" might be broken down into several phones: \"rrr\", \"oh\", \"buh\", \"aah\", and \"tuh\".  Phones are then grouped together into further categories like words (\"robot\") and sentences (\"I, for one, welcome our new robot overlords\") that carry more meaning.\n",
    "\n",
    "A visual language like Libras has an analogous structure.  Instead of phones, each word is made up of several *hand movements*.  As a first step in interpreting Libras, we can break down a video clip into small segments, each containing a single hand movement.  The task is then to figure out what hand movement each segment represents.\n",
    "\n",
    "We can do that with classification!\n",
    "\n",
    "The [data](https://archive.ics.uci.edu/ml/machine-learning-databases/libras/movement_libras.names) in this exercise come from Dias, Peres, and Biscaro, researchers at the University of Sao Paulo in Brazil.  They identified 15 distinct hand movements in Libras (probably an oversimplification, but a useful one) and captured short videos of signers making those hand movements.  (You can read more about their work [here](http://ieeexplore.ieee.org/Xplore/login.jsp?url=http%3A%2F%2Fieeexplore.ieee.org%2Fiel5%2F5161636%2F5178557%2F05178917.pdf&authDecision=-203). The paper is gated, so you will need to use your institution's Wi-Fi or VPN to access it.)\n",
    "\n",
    "For each video, they chose 45 still frames from the video and identified the location (in horizontal and vertical coordinates) of the signer's hand in each frame.  Since there are two coordinates for each frame, this gives us a total of 90 numbers summarizing how a hand moved in each video.  Those 90 numbers will be our *attributes*.\n",
    "\n",
    "Each video is *labeled* with the kind of hand movement the signer was making in it.  Each label is one of 15 strings like \"horizontal swing\" or \"vertical zigzag\".\n",
    "\n",
    "For simplicity, we're going to focus on distinguishing between just two kinds of movements: \"horizontal straight-line\" and \"vertical straight-line\".  We took the Sao Paulo researchers' original dataset, which was quite small, and used some simple techniques to create a much larger synthetic dataset.\n",
    "\n",
    "These data are in the file `movements.csv`.  Run the next cell to load it."
   ]
  },
  {
   "cell_type": "code",
   "execution_count": 8,
   "metadata": {
    "deletable": false
   },
   "outputs": [
    {
     "data": {
      "text/html": [
       "<table border=\"1\" class=\"dataframe\">\n",
       "    <thead>\n",
       "        <tr>\n",
       "            <th>Frame 1 x</th> <th>Frame 1 y</th> <th>Frame 2 x</th> <th>Frame 2 y</th> <th>Frame 3 x</th> <th>Frame 3 y</th> <th>Frame 4 x</th> <th>Frame 4 y</th> <th>Frame 5 x</th> <th>Frame 5 y</th> <th>Frame 6 x</th> <th>Frame 6 y</th> <th>Frame 7 x</th> <th>Frame 7 y</th> <th>Frame 8 x</th> <th>Frame 8 y</th> <th>Frame 9 x</th> <th>Frame 9 y</th> <th>Frame 10 x</th> <th>Frame 10 y</th> <th>Frame 11 x</th> <th>Frame 11 y</th> <th>Frame 12 x</th> <th>Frame 12 y</th> <th>Frame 13 x</th> <th>Frame 13 y</th> <th>Frame 14 x</th> <th>Frame 14 y</th> <th>Frame 15 x</th> <th>Frame 15 y</th> <th>Frame 16 x</th> <th>Frame 16 y</th> <th>Frame 17 x</th> <th>Frame 17 y</th> <th>Frame 18 x</th> <th>Frame 18 y</th> <th>Frame 19 x</th> <th>Frame 19 y</th> <th>Frame 20 x</th> <th>Frame 20 y</th> <th>Frame 21 x</th> <th>Frame 21 y</th> <th>Frame 22 x</th> <th>Frame 22 y</th> <th>Frame 23 x</th> <th>Frame 23 y</th> <th>Frame 24 x</th> <th>Frame 24 y</th> <th>Frame 25 x</th> <th>Frame 25 y</th> <th>Frame 26 x</th> <th>Frame 26 y</th> <th>Frame 27 x</th> <th>Frame 27 y</th> <th>Frame 28 x</th> <th>Frame 28 y</th> <th>Frame 29 x</th> <th>Frame 29 y</th> <th>Frame 30 x</th> <th>Frame 30 y</th> <th>Frame 31 x</th> <th>Frame 31 y</th> <th>Frame 32 x</th> <th>Frame 32 y</th> <th>Frame 33 x</th> <th>Frame 33 y</th> <th>Frame 34 x</th> <th>Frame 34 y</th> <th>Frame 35 x</th> <th>Frame 35 y</th> <th>Frame 36 x</th> <th>Frame 36 y</th> <th>Frame 37 x</th> <th>Frame 37 y</th> <th>Frame 38 x</th> <th>Frame 38 y</th> <th>Frame 39 x</th> <th>Frame 39 y</th> <th>Frame 40 x</th> <th>Frame 40 y</th> <th>Frame 41 x</th> <th>Frame 41 y</th> <th>Frame 42 x</th> <th>Frame 42 y</th> <th>Frame 43 x</th> <th>Frame 43 y</th> <th>Frame 44 x</th> <th>Frame 44 y</th> <th>Frame 45 x</th> <th>Frame 45 y</th> <th>Movement type</th>\n",
       "        </tr>\n",
       "    </thead>\n",
       "    <tbody>\n",
       "        <tr>\n",
       "            <td>0.522768 </td> <td>0.769731 </td> <td>0.536186 </td> <td>0.749446 </td> <td>0.518625 </td> <td>0.757197 </td> <td>0.517752 </td> <td>0.756847 </td> <td>0.504951 </td> <td>0.726008 </td> <td>0.50008  </td> <td>0.712113 </td> <td>0.463555 </td> <td>0.712355 </td> <td>0.49873  </td> <td>0.736872 </td> <td>0.51472  </td> <td>0.754353 </td> <td>0.517935  </td> <td>0.748163  </td> <td>0.5082    </td> <td>0.734278  </td> <td>0.50004   </td> <td>0.726941  </td> <td>0.49291   </td> <td>0.71189   </td> <td>0.480587  </td> <td>0.715755  </td> <td>0.476772  </td> <td>0.723531  </td> <td>0.504372  </td> <td>0.717318  </td> <td>0.46351   </td> <td>0.70031   </td> <td>0.463217  </td> <td>0.693279  </td> <td>0.474777  </td> <td>0.722122  </td> <td>0.512079  </td> <td>0.73267   </td> <td>0.506785  </td> <td>0.731242  </td> <td>0.497417  </td> <td>0.723703  </td> <td>0.505879  </td> <td>0.726615  </td> <td>0.51537   </td> <td>0.741874  </td> <td>0.544376  </td> <td>0.741177  </td> <td>0.51367   </td> <td>0.714379  </td> <td>0.509508  </td> <td>0.715222  </td> <td>0.519559  </td> <td>0.704945  </td> <td>0.511828  </td> <td>0.69361   </td> <td>0.511366  </td> <td>0.685024  </td> <td>0.510194  </td> <td>0.686122  </td> <td>0.518486  </td> <td>0.694125  </td> <td>0.524232  </td> <td>0.68817   </td> <td>0.531254  </td> <td>0.672905  </td> <td>0.530833  </td> <td>0.672029  </td> <td>0.521013  </td> <td>0.621037  </td> <td>0.481328  </td> <td>0.586983  </td> <td>0.450996  </td> <td>0.576725  </td> <td>0.474634  </td> <td>0.585757  </td> <td>0.465209  </td> <td>0.572517  </td> <td>0.430172  </td> <td>0.547155  </td> <td>0.429693  </td> <td>0.531896  </td> <td>0.415799  </td> <td>0.516734  </td> <td>0.40249   </td> <td>0.528653  </td> <td>0.413692  </td> <td>0.510434  </td> <td>vertical straight-line  </td>\n",
       "        </tr>\n",
       "        <tr>\n",
       "            <td>0.179546 </td> <td>0.658986 </td> <td>0.177132 </td> <td>0.656834 </td> <td>0.168157 </td> <td>0.664803 </td> <td>0.176407 </td> <td>0.654713 </td> <td>0.167577 </td> <td>0.635559 </td> <td>0.138276 </td> <td>0.633621 </td> <td>0.143817 </td> <td>0.633303 </td> <td>0.154967 </td> <td>0.643993 </td> <td>0.169151 </td> <td>0.646888 </td> <td>0.138409  </td> <td>0.62286   </td> <td>0.141052  </td> <td>0.638818  </td> <td>0.129957  </td> <td>0.644284  </td> <td>0.141763  </td> <td>0.643459  </td> <td>0.127024  </td> <td>0.641122  </td> <td>0.133745  </td> <td>0.63458   </td> <td>0.114496  </td> <td>0.632741  </td> <td>0.0891234 </td> <td>0.631917  </td> <td>0.0836099 </td> <td>0.630901  </td> <td>0.07445   </td> <td>0.621396  </td> <td>0.072605  </td> <td>0.635247  </td> <td>0.0506362 </td> <td>0.620064  </td> <td>0.0467104 </td> <td>0.62067   </td> <td>0.0531715 </td> <td>0.645212  </td> <td>0.0374171 </td> <td>0.634352  </td> <td>0.0182681 </td> <td>0.61547   </td> <td>-0.0197023</td> <td>0.6088    </td> <td>-0.027299 </td> <td>0.605641  </td> <td>-0.0482872</td> <td>0.594468  </td> <td>-0.0640002</td> <td>0.588416  </td> <td>-0.0565593</td> <td>0.582703  </td> <td>-0.0881633</td> <td>0.586423  </td> <td>-0.0929613</td> <td>0.600561  </td> <td>-0.0928198</td> <td>0.609785  </td> <td>-0.107121 </td> <td>0.624372  </td> <td>-0.115449 </td> <td>0.613028  </td> <td>-0.140709 </td> <td>0.614448  </td> <td>-0.148999 </td> <td>0.607538  </td> <td>-0.179288 </td> <td>0.582983  </td> <td>-0.196426 </td> <td>0.612175  </td> <td>-0.195264 </td> <td>0.580151  </td> <td>-0.230368 </td> <td>0.577835  </td> <td>-0.250168 </td> <td>0.550737  </td> <td>-0.274717 </td> <td>0.571828  </td> <td>-0.258795 </td> <td>0.590663  </td> <td>-0.256045 </td> <td>0.578798  </td> <td>horizontal straight-line</td>\n",
       "        </tr>\n",
       "        <tr>\n",
       "            <td>0.805813 </td> <td>0.651365 </td> <td>0.832204 </td> <td>0.666023 </td> <td>0.834636 </td> <td>0.645757 </td> <td>0.826685 </td> <td>0.645685 </td> <td>0.816671 </td> <td>0.625701 </td> <td>0.810289 </td> <td>0.637001 </td> <td>0.819373 </td> <td>0.635922 </td> <td>0.827567 </td> <td>0.637587 </td> <td>0.813763 </td> <td>0.645346 </td> <td>0.824472  </td> <td>0.632012  </td> <td>0.82673   </td> <td>0.643524  </td> <td>0.817462  </td> <td>0.638418  </td> <td>0.804468  </td> <td>0.63604   </td> <td>0.830122  </td> <td>0.652033  </td> <td>0.828967  </td> <td>0.658297  </td> <td>0.850648  </td> <td>0.678696  </td> <td>0.845375  </td> <td>0.679893  </td> <td>0.858148  </td> <td>0.677961  </td> <td>0.852067  </td> <td>0.673301  </td> <td>0.849921  </td> <td>0.668893  </td> <td>0.84142   </td> <td>0.681652  </td> <td>0.869216  </td> <td>0.68519   </td> <td>0.857929  </td> <td>0.69222   </td> <td>0.868462  </td> <td>0.683252  </td> <td>0.843773  </td> <td>0.668541  </td> <td>0.848835  </td> <td>0.674522  </td> <td>0.843266  </td> <td>0.663946  </td> <td>0.830001  </td> <td>0.655817  </td> <td>0.825753  </td> <td>0.654858  </td> <td>0.822624  </td> <td>0.660058  </td> <td>0.818284  </td> <td>0.643763  </td> <td>0.796939  </td> <td>0.62913   </td> <td>0.789691  </td> <td>0.61749   </td> <td>0.772315  </td> <td>0.606656  </td> <td>0.773609  </td> <td>0.605172  </td> <td>0.76006   </td> <td>0.579637  </td> <td>0.728993  </td> <td>0.576794  </td> <td>0.726034  </td> <td>0.584777  </td> <td>0.705394  </td> <td>0.573393  </td> <td>0.693345  </td> <td>0.579456  </td> <td>0.693249  </td> <td>0.581378  </td> <td>0.684606  </td> <td>0.576406  </td> <td>0.670061  </td> <td>0.566151  </td> <td>0.642557  </td> <td>0.569876  </td> <td>0.629915  </td> <td>0.561387  </td> <td>horizontal straight-line</td>\n",
       "        </tr>\n",
       "        <tr>\n",
       "            <td>0.83942  </td> <td>0.564511 </td> <td>0.853031 </td> <td>0.560031 </td> <td>0.845024 </td> <td>0.549989 </td> <td>0.824814 </td> <td>0.546812 </td> <td>0.821869 </td> <td>0.5462   </td> <td>0.820898 </td> <td>0.536278 </td> <td>0.800887 </td> <td>0.525634 </td> <td>0.801667 </td> <td>0.542531 </td> <td>0.806793 </td> <td>0.553656 </td> <td>0.799924  </td> <td>0.576862  </td> <td>0.810348  </td> <td>0.571102  </td> <td>0.801704  </td> <td>0.57294   </td> <td>0.773529  </td> <td>0.561476  </td> <td>0.772628  </td> <td>0.565349  </td> <td>0.773298  </td> <td>0.566374  </td> <td>0.727042  </td> <td>0.553929  </td> <td>0.723279  </td> <td>0.579006  </td> <td>0.731698  </td> <td>0.593158  </td> <td>0.727945  </td> <td>0.606501  </td> <td>0.72577   </td> <td>0.644594  </td> <td>0.721218  </td> <td>0.642742  </td> <td>0.718306  </td> <td>0.65346   </td> <td>0.702917  </td> <td>0.676261  </td> <td>0.724201  </td> <td>0.707004  </td> <td>0.711995  </td> <td>0.708004  </td> <td>0.703505  </td> <td>0.708526  </td> <td>0.697355  </td> <td>0.711636  </td> <td>0.674235  </td> <td>0.737123  </td> <td>0.68839   </td> <td>0.735325  </td> <td>0.682767  </td> <td>0.741957  </td> <td>0.671688  </td> <td>0.739555  </td> <td>0.634614  </td> <td>0.737214  </td> <td>0.605281  </td> <td>0.713473  </td> <td>0.592041  </td> <td>0.713161  </td> <td>0.561725  </td> <td>0.714786  </td> <td>0.538708  </td> <td>0.703583  </td> <td>0.531588  </td> <td>0.718057  </td> <td>0.553363  </td> <td>0.737859  </td> <td>0.539013  </td> <td>0.719495  </td> <td>0.513489  </td> <td>0.721538  </td> <td>0.503373  </td> <td>0.719414  </td> <td>0.504463  </td> <td>0.731782  </td> <td>0.514171  </td> <td>0.730937  </td> <td>0.518139  </td> <td>0.738488  </td> <td>0.503466  </td> <td>0.730267  </td> <td>horizontal straight-line</td>\n",
       "        </tr>\n",
       "        <tr>\n",
       "            <td>0.5504   </td> <td>0.724639 </td> <td>0.548864 </td> <td>0.727437 </td> <td>0.559092 </td> <td>0.757221 </td> <td>0.576803 </td> <td>0.763471 </td> <td>0.579116 </td> <td>0.752175 </td> <td>0.581021 </td> <td>0.771376 </td> <td>0.588351 </td> <td>0.773922 </td> <td>0.604139 </td> <td>0.782165 </td> <td>0.603875 </td> <td>0.768626 </td> <td>0.608751  </td> <td>0.74764   </td> <td>0.601986  </td> <td>0.732743  </td> <td>0.599202  </td> <td>0.717549  </td> <td>0.607302  </td> <td>0.721427  </td> <td>0.620328  </td> <td>0.682498  </td> <td>0.603376  </td> <td>0.66756   </td> <td>0.61182   </td> <td>0.641005  </td> <td>0.571499  </td> <td>0.605139  </td> <td>0.563333  </td> <td>0.55631   </td> <td>0.532991  </td> <td>0.52395   </td> <td>0.514682  </td> <td>0.500591  </td> <td>0.530536  </td> <td>0.486458  </td> <td>0.522758  </td> <td>0.453329  </td> <td>0.515001  </td> <td>0.412563  </td> <td>0.502188  </td> <td>0.39027   </td> <td>0.503148  </td> <td>0.368665  </td> <td>0.501019  </td> <td>0.346839  </td> <td>0.512556  </td> <td>0.312493  </td> <td>0.47574   </td> <td>0.279755  </td> <td>0.476174  </td> <td>0.257592  </td> <td>0.473331  </td> <td>0.23701   </td> <td>0.492565  </td> <td>0.245318  </td> <td>0.510208  </td> <td>0.231261  </td> <td>0.509312  </td> <td>0.21478   </td> <td>0.507778  </td> <td>0.202246  </td> <td>0.506741  </td> <td>0.192624  </td> <td>0.502328  </td> <td>0.170399  </td> <td>0.488535  </td> <td>0.143743  </td> <td>0.495343  </td> <td>0.156119  </td> <td>0.510498  </td> <td>0.17154   </td> <td>0.538879  </td> <td>0.160089  </td> <td>0.531483  </td> <td>0.171206  </td> <td>0.55924   </td> <td>0.159821  </td> <td>0.539761  </td> <td>0.153518  </td> <td>0.520628  </td> <td>0.133368  </td> <td>0.503185  </td> <td>0.112633  </td> <td>vertical straight-line  </td>\n",
       "        </tr>\n",
       "    </tbody>\n",
       "</table>"
      ],
      "text/plain": [
       "Frame 1 x | Frame 1 y | Frame 2 x | Frame 2 y | Frame 3 x | Frame 3 y | Frame 4 x | Frame 4 y | Frame 5 x | Frame 5 y | Frame 6 x | Frame 6 y | Frame 7 x | Frame 7 y | Frame 8 x | Frame 8 y | Frame 9 x | Frame 9 y | Frame 10 x | Frame 10 y | Frame 11 x | Frame 11 y | Frame 12 x | Frame 12 y | Frame 13 x | Frame 13 y | Frame 14 x | Frame 14 y | Frame 15 x | Frame 15 y | Frame 16 x | Frame 16 y | Frame 17 x | Frame 17 y | Frame 18 x | Frame 18 y | Frame 19 x | Frame 19 y | Frame 20 x | Frame 20 y | Frame 21 x | Frame 21 y | Frame 22 x | Frame 22 y | Frame 23 x | Frame 23 y | Frame 24 x | Frame 24 y | Frame 25 x | Frame 25 y | Frame 26 x | Frame 26 y | Frame 27 x | Frame 27 y | Frame 28 x | Frame 28 y | Frame 29 x | Frame 29 y | Frame 30 x | Frame 30 y | Frame 31 x | Frame 31 y | Frame 32 x | Frame 32 y | Frame 33 x | Frame 33 y | Frame 34 x | Frame 34 y | Frame 35 x | Frame 35 y | Frame 36 x | Frame 36 y | Frame 37 x | Frame 37 y | Frame 38 x | Frame 38 y | Frame 39 x | Frame 39 y | Frame 40 x | Frame 40 y | Frame 41 x | Frame 41 y | Frame 42 x | Frame 42 y | Frame 43 x | Frame 43 y | Frame 44 x | Frame 44 y | Frame 45 x | Frame 45 y | Movement type\n",
       "0.522768  | 0.769731  | 0.536186  | 0.749446  | 0.518625  | 0.757197  | 0.517752  | 0.756847  | 0.504951  | 0.726008  | 0.50008   | 0.712113  | 0.463555  | 0.712355  | 0.49873   | 0.736872  | 0.51472   | 0.754353  | 0.517935   | 0.748163   | 0.5082     | 0.734278   | 0.50004    | 0.726941   | 0.49291    | 0.71189    | 0.480587   | 0.715755   | 0.476772   | 0.723531   | 0.504372   | 0.717318   | 0.46351    | 0.70031    | 0.463217   | 0.693279   | 0.474777   | 0.722122   | 0.512079   | 0.73267    | 0.506785   | 0.731242   | 0.497417   | 0.723703   | 0.505879   | 0.726615   | 0.51537    | 0.741874   | 0.544376   | 0.741177   | 0.51367    | 0.714379   | 0.509508   | 0.715222   | 0.519559   | 0.704945   | 0.511828   | 0.69361    | 0.511366   | 0.685024   | 0.510194   | 0.686122   | 0.518486   | 0.694125   | 0.524232   | 0.68817    | 0.531254   | 0.672905   | 0.530833   | 0.672029   | 0.521013   | 0.621037   | 0.481328   | 0.586983   | 0.450996   | 0.576725   | 0.474634   | 0.585757   | 0.465209   | 0.572517   | 0.430172   | 0.547155   | 0.429693   | 0.531896   | 0.415799   | 0.516734   | 0.40249    | 0.528653   | 0.413692   | 0.510434   | vertical straight-line\n",
       "0.179546  | 0.658986  | 0.177132  | 0.656834  | 0.168157  | 0.664803  | 0.176407  | 0.654713  | 0.167577  | 0.635559  | 0.138276  | 0.633621  | 0.143817  | 0.633303  | 0.154967  | 0.643993  | 0.169151  | 0.646888  | 0.138409   | 0.62286    | 0.141052   | 0.638818   | 0.129957   | 0.644284   | 0.141763   | 0.643459   | 0.127024   | 0.641122   | 0.133745   | 0.63458    | 0.114496   | 0.632741   | 0.0891234  | 0.631917   | 0.0836099  | 0.630901   | 0.07445    | 0.621396   | 0.072605   | 0.635247   | 0.0506362  | 0.620064   | 0.0467104  | 0.62067    | 0.0531715  | 0.645212   | 0.0374171  | 0.634352   | 0.0182681  | 0.61547    | -0.0197023 | 0.6088     | -0.027299  | 0.605641   | -0.0482872 | 0.594468   | -0.0640002 | 0.588416   | -0.0565593 | 0.582703   | -0.0881633 | 0.586423   | -0.0929613 | 0.600561   | -0.0928198 | 0.609785   | -0.107121  | 0.624372   | -0.115449  | 0.613028   | -0.140709  | 0.614448   | -0.148999  | 0.607538   | -0.179288  | 0.582983   | -0.196426  | 0.612175   | -0.195264  | 0.580151   | -0.230368  | 0.577835   | -0.250168  | 0.550737   | -0.274717  | 0.571828   | -0.258795  | 0.590663   | -0.256045  | 0.578798   | horizontal straight-line\n",
       "0.805813  | 0.651365  | 0.832204  | 0.666023  | 0.834636  | 0.645757  | 0.826685  | 0.645685  | 0.816671  | 0.625701  | 0.810289  | 0.637001  | 0.819373  | 0.635922  | 0.827567  | 0.637587  | 0.813763  | 0.645346  | 0.824472   | 0.632012   | 0.82673    | 0.643524   | 0.817462   | 0.638418   | 0.804468   | 0.63604    | 0.830122   | 0.652033   | 0.828967   | 0.658297   | 0.850648   | 0.678696   | 0.845375   | 0.679893   | 0.858148   | 0.677961   | 0.852067   | 0.673301   | 0.849921   | 0.668893   | 0.84142    | 0.681652   | 0.869216   | 0.68519    | 0.857929   | 0.69222    | 0.868462   | 0.683252   | 0.843773   | 0.668541   | 0.848835   | 0.674522   | 0.843266   | 0.663946   | 0.830001   | 0.655817   | 0.825753   | 0.654858   | 0.822624   | 0.660058   | 0.818284   | 0.643763   | 0.796939   | 0.62913    | 0.789691   | 0.61749    | 0.772315   | 0.606656   | 0.773609   | 0.605172   | 0.76006    | 0.579637   | 0.728993   | 0.576794   | 0.726034   | 0.584777   | 0.705394   | 0.573393   | 0.693345   | 0.579456   | 0.693249   | 0.581378   | 0.684606   | 0.576406   | 0.670061   | 0.566151   | 0.642557   | 0.569876   | 0.629915   | 0.561387   | horizontal straight-line\n",
       "0.83942   | 0.564511  | 0.853031  | 0.560031  | 0.845024  | 0.549989  | 0.824814  | 0.546812  | 0.821869  | 0.5462    | 0.820898  | 0.536278  | 0.800887  | 0.525634  | 0.801667  | 0.542531  | 0.806793  | 0.553656  | 0.799924   | 0.576862   | 0.810348   | 0.571102   | 0.801704   | 0.57294    | 0.773529   | 0.561476   | 0.772628   | 0.565349   | 0.773298   | 0.566374   | 0.727042   | 0.553929   | 0.723279   | 0.579006   | 0.731698   | 0.593158   | 0.727945   | 0.606501   | 0.72577    | 0.644594   | 0.721218   | 0.642742   | 0.718306   | 0.65346    | 0.702917   | 0.676261   | 0.724201   | 0.707004   | 0.711995   | 0.708004   | 0.703505   | 0.708526   | 0.697355   | 0.711636   | 0.674235   | 0.737123   | 0.68839    | 0.735325   | 0.682767   | 0.741957   | 0.671688   | 0.739555   | 0.634614   | 0.737214   | 0.605281   | 0.713473   | 0.592041   | 0.713161   | 0.561725   | 0.714786   | 0.538708   | 0.703583   | 0.531588   | 0.718057   | 0.553363   | 0.737859   | 0.539013   | 0.719495   | 0.513489   | 0.721538   | 0.503373   | 0.719414   | 0.504463   | 0.731782   | 0.514171   | 0.730937   | 0.518139   | 0.738488   | 0.503466   | 0.730267   | horizontal straight-line\n",
       "0.5504    | 0.724639  | 0.548864  | 0.727437  | 0.559092  | 0.757221  | 0.576803  | 0.763471  | 0.579116  | 0.752175  | 0.581021  | 0.771376  | 0.588351  | 0.773922  | 0.604139  | 0.782165  | 0.603875  | 0.768626  | 0.608751   | 0.74764    | 0.601986   | 0.732743   | 0.599202   | 0.717549   | 0.607302   | 0.721427   | 0.620328   | 0.682498   | 0.603376   | 0.66756    | 0.61182    | 0.641005   | 0.571499   | 0.605139   | 0.563333   | 0.55631    | 0.532991   | 0.52395    | 0.514682   | 0.500591   | 0.530536   | 0.486458   | 0.522758   | 0.453329   | 0.515001   | 0.412563   | 0.502188   | 0.39027    | 0.503148   | 0.368665   | 0.501019   | 0.346839   | 0.512556   | 0.312493   | 0.47574    | 0.279755   | 0.476174   | 0.257592   | 0.473331   | 0.23701    | 0.492565   | 0.245318   | 0.510208   | 0.231261   | 0.509312   | 0.21478    | 0.507778   | 0.202246   | 0.506741   | 0.192624   | 0.502328   | 0.170399   | 0.488535   | 0.143743   | 0.495343   | 0.156119   | 0.510498   | 0.17154    | 0.538879   | 0.160089   | 0.531483   | 0.171206   | 0.55924    | 0.159821   | 0.539761   | 0.153518   | 0.520628   | 0.133368   | 0.503185   | 0.112633   | vertical straight-line"
      ]
     },
     "execution_count": 8,
     "metadata": {},
     "output_type": "execute_result"
    }
   ],
   "source": [
    "movements = Table.read_table(\"movements.csv\")\n",
    "movements.take(np.arange(5))"
   ]
  },
  {
   "cell_type": "markdown",
   "metadata": {},
   "source": [
    "The cell below displays movements graphically.  Run it and use the slider to answer the next question."
   ]
  },
  {
   "cell_type": "code",
   "execution_count": 9,
   "metadata": {
    "deletable": false
   },
   "outputs": [
    {
     "data": {
      "application/vnd.jupyter.widget-view+json": {
       "model_id": "bd4c5f70763642c6b5b0f6fa0a37a12b",
       "version_major": 2,
       "version_minor": 0
      },
      "text/plain": [
       "interactive(children=(BoundedIntText(value=0, description='example', max=959), IntSlider(value=1, description=…"
      ]
     },
     "metadata": {},
     "output_type": "display_data"
    }
   ],
   "source": [
    "# Just run this cell and use the slider it produces.\n",
    "def display_whole_movement(row_idx):\n",
    "    num_frames = int((movements.num_columns-1)/2)\n",
    "    row = np.array(movements.drop(\"Movement type\").row(row_idx))\n",
    "    xs = row[np.arange(0, 2*num_frames, 2)]\n",
    "    ys = row[np.arange(1, 2*num_frames, 2)]\n",
    "    plt.figure(figsize=(5,5))\n",
    "    plt.plot(xs, ys, c=\"gold\")\n",
    "    plt.xlabel(\"x\")\n",
    "    plt.ylabel(\"y\")\n",
    "    plt.xlim(-.5, 1.5)\n",
    "    plt.ylim(-.5, 1.5)\n",
    "    plt.gca().set_aspect('equal', adjustable='box')\n",
    "\n",
    "def display_hand(example, frame, display_truth):\n",
    "        time_idx = frame-1\n",
    "        display_whole_movement(example)\n",
    "        x = movements.column(2*time_idx).item(example)\n",
    "        y = movements.column(2*time_idx+1).item(example)\n",
    "        plt.annotate(\n",
    "            \"frame {:d}\".format(frame),\n",
    "            xy=(x, y), xytext=(-20, 20),\n",
    "            textcoords = 'offset points', ha = 'right', va = 'bottom',\n",
    "            color='white',\n",
    "            bbox = {'boxstyle': 'round,pad=0.5', 'fc': 'black', 'alpha':.4},\n",
    "            arrowprops = {'arrowstyle': '->', 'connectionstyle':'arc3,rad=0', 'color': 'black'})\n",
    "        plt.scatter(x, y, c=\"black\", zorder=10)\n",
    "        plt.title(\"Hand positions for movement {:d}{}\".format(example, \"\\n(True class: {})\".format(movements.column(\"Movement type\").item(example)) if display_truth else \"\"))\n",
    "\n",
    "def animate_movement():\n",
    "    interact(\n",
    "        display_hand,\n",
    "        example=widgets.BoundedIntText(min=0, max=movements.num_rows-1, value=0, msg_throttle=1),\n",
    "        frame=widgets.IntSlider(min=1, max=int((movements.num_columns-1)/2), step=1, value=1, msg_throttle=1),\n",
    "        display_truth=fixed(False))\n",
    "\n",
    "animate_movement()"
   ]
  },
  {
   "cell_type": "markdown",
   "metadata": {
    "deletable": false,
    "editable": false
   },
   "source": [
    "#### Question 1\n",
    "\n",
    "Before we move on, check your understanding of the dataset.  Judging by the plot, is the first movement example a vertical motion, or a horizontal motion? If it is hard to tell, does it seem more likely to be vertical or horizontal? This is the kind of question a classifier has to answer.  Find out the right answer by looking at the `Movement type` column.  \n",
    "\n",
    "Assign `first_movement` to `1` if the movement was vertical, or `2` if the movement was horizontal.\n",
    "\n",
    "<!--\n",
    "BEGIN QUESTION\n",
    "name: q1_1\n",
    "manual: false\n",
    "-->"
   ]
  },
  {
   "cell_type": "code",
   "execution_count": 10,
   "metadata": {
    "deletable": false
   },
   "outputs": [],
   "source": [
    "first_movement = 1"
   ]
  },
  {
   "cell_type": "code",
   "execution_count": 11,
   "metadata": {
    "deletable": false,
    "editable": false
   },
   "outputs": [
    {
     "name": "stdout",
     "output_type": "stream",
     "text": [
      "~~~~~~~~~~~~~~~~~~~~~~~~~~~~~~~~~~~~~~~~~~~~~~~~~~~~~~~~~~~~~~~~~~~~~\n",
      "Running tests\n",
      "\n",
      "---------------------------------------------------------------------\n",
      "Test summary\n",
      "    Passed: 1\n",
      "    Failed: 0\n",
      "[ooooooooook] 100.0% passed\n",
      "\n"
     ]
    }
   ],
   "source": [
    "ok.grade(\"q1_1\");"
   ]
  },
  {
   "cell_type": "markdown",
   "metadata": {},
   "source": [
    "### Splitting the dataset\n",
    "We'll do 2 different kinds of things with the `movements` dataset:\n",
    "1. We'll build a classifier that uses the movements with known labels as examples to classify similar movements.  This is called *training*.\n",
    "2. We'll evaluate or *test* the accuracy of the classifier we build.\n",
    "\n",
    "For reasons discussed in lecture and the textbook, we want to use separate datasets for these two purposes.  So we split up our one dataset into two."
   ]
  },
  {
   "cell_type": "markdown",
   "metadata": {
    "deletable": false,
    "editable": false
   },
   "source": [
    "#### Question 2\n",
    "\n",
    "Create a table called `train_movements` and another table called `test_movements`.  `train_movements` should include the first $\\frac{11}{16}$th of the rows in `movements` (rounded to the nearest integer), and `test_movements` should include the remaining $\\frac{5}{16}$th. \n",
    "\n",
    "Note that we do **not** mean the first 11 rows for the training test and rows 12-16 for the test set. We mean the first $\\frac{11}{16} = 68.75$% of the table should be for the the trianing set, and the rest should be for the test set. \n",
    "\n",
    "*Hint:* Use the table method `take`.\n",
    "\n",
    "<!--\n",
    "BEGIN QUESTION\n",
    "name: q1_2\n",
    "manual: false\n",
    "-->"
   ]
  },
  {
   "cell_type": "code",
   "execution_count": 18,
   "metadata": {
    "for_assignment_type": "solution"
   },
   "outputs": [
    {
     "name": "stdout",
     "output_type": "stream",
     "text": [
      "Training set:\t 660 examples\n",
      "Test set:\t 300 examples\n"
     ]
    }
   ],
   "source": [
    "training_proportion = 11/16\n",
    "num_movements = movements.num_rows\n",
    "num_train = int(round(num_movements * training_proportion))\n",
    "movements_shuffled = movements.sample(with_replacement = False)\n",
    "\n",
    "train_movements = movements_shuffled.take(np.arange(num_train))\n",
    "test_movements = movements_shuffled.take(np.arange(int(round(num_movements * (1-training_proportion)))))\n",
    "\n",
    "print(\"Training set:\\t\",   train_movements.num_rows, \"examples\")\n",
    "print(\"Test set:\\t\",       test_movements.num_rows, \"examples\")"
   ]
  },
  {
   "cell_type": "code",
   "execution_count": 19,
   "metadata": {
    "deletable": false,
    "editable": false
   },
   "outputs": [
    {
     "name": "stdout",
     "output_type": "stream",
     "text": [
      "~~~~~~~~~~~~~~~~~~~~~~~~~~~~~~~~~~~~~~~~~~~~~~~~~~~~~~~~~~~~~~~~~~~~~\n",
      "Running tests\n",
      "\n",
      "---------------------------------------------------------------------\n",
      "Test summary\n",
      "    Passed: 2\n",
      "    Failed: 0\n",
      "[ooooooooook] 100.0% passed\n",
      "\n"
     ]
    }
   ],
   "source": [
    "ok.grade(\"q1_2\");"
   ]
  },
  {
   "cell_type": "markdown",
   "metadata": {},
   "source": [
    "### Using only 2 features\n",
    "First let's see how well we can distinguish two movements (a vertical line and a horizontal line) using the hand position from just a single frame (without the other 44)."
   ]
  },
  {
   "cell_type": "markdown",
   "metadata": {
    "deletable": false,
    "editable": false
   },
   "source": [
    "#### Question 3\n",
    "\n",
    "Make a table called `train_two_features` with only 3 columns: the first frame’s x coordinate and first frame’s y coordinate (which are our chosen features), as well as the movement type. Use only the examples in train_movements. \n",
    "\n",
    "<!--\n",
    "BEGIN QUESTION\n",
    "name: q1_3\n",
    "manual: false\n",
    "-->"
   ]
  },
  {
   "cell_type": "code",
   "execution_count": 20,
   "metadata": {
    "deletable": false
   },
   "outputs": [
    {
     "data": {
      "text/html": [
       "<table border=\"1\" class=\"dataframe\">\n",
       "    <thead>\n",
       "        <tr>\n",
       "            <th>Frame 1 x</th> <th>Frame 1 y</th> <th>Movement type</th>\n",
       "        </tr>\n",
       "    </thead>\n",
       "    <tbody>\n",
       "        <tr>\n",
       "            <td>0.666604 </td> <td>0.622053 </td> <td>horizontal straight-line</td>\n",
       "        </tr>\n",
       "        <tr>\n",
       "            <td>0.837107 </td> <td>0.660546 </td> <td>horizontal straight-line</td>\n",
       "        </tr>\n",
       "        <tr>\n",
       "            <td>0.979005 </td> <td>0.435794 </td> <td>horizontal straight-line</td>\n",
       "        </tr>\n",
       "        <tr>\n",
       "            <td>0.707036 </td> <td>0.728201 </td> <td>vertical straight-line  </td>\n",
       "        </tr>\n",
       "        <tr>\n",
       "            <td>0.771849 </td> <td>0.743674 </td> <td>vertical straight-line  </td>\n",
       "        </tr>\n",
       "        <tr>\n",
       "            <td>0.658697 </td> <td>0.462624 </td> <td>horizontal straight-line</td>\n",
       "        </tr>\n",
       "        <tr>\n",
       "            <td>0.447998 </td> <td>0.920271 </td> <td>vertical straight-line  </td>\n",
       "        </tr>\n",
       "        <tr>\n",
       "            <td>0.713871 </td> <td>0.688605 </td> <td>vertical straight-line  </td>\n",
       "        </tr>\n",
       "        <tr>\n",
       "            <td>0.72878  </td> <td>0.514291 </td> <td>vertical straight-line  </td>\n",
       "        </tr>\n",
       "        <tr>\n",
       "            <td>0.624829 </td> <td>0.545679 </td> <td>horizontal straight-line</td>\n",
       "        </tr>\n",
       "    </tbody>\n",
       "</table>\n",
       "<p>... (650 rows omitted)</p>"
      ],
      "text/plain": [
       "Frame 1 x | Frame 1 y | Movement type\n",
       "0.666604  | 0.622053  | horizontal straight-line\n",
       "0.837107  | 0.660546  | horizontal straight-line\n",
       "0.979005  | 0.435794  | horizontal straight-line\n",
       "0.707036  | 0.728201  | vertical straight-line\n",
       "0.771849  | 0.743674  | vertical straight-line\n",
       "0.658697  | 0.462624  | horizontal straight-line\n",
       "0.447998  | 0.920271  | vertical straight-line\n",
       "0.713871  | 0.688605  | vertical straight-line\n",
       "0.72878   | 0.514291  | vertical straight-line\n",
       "0.624829  | 0.545679  | horizontal straight-line\n",
       "... (650 rows omitted)"
      ]
     },
     "execution_count": 20,
     "metadata": {},
     "output_type": "execute_result"
    }
   ],
   "source": [
    "train_two_features = Table().with_columns('Frame 1 x', train_movements.column('Frame 1 x'), 'Frame 1 y', train_movements.column('Frame 1 y'),'Movement type', train_movements.column('Movement type'))\n",
    "train_two_features"
   ]
  },
  {
   "cell_type": "code",
   "execution_count": 21,
   "metadata": {
    "deletable": false,
    "editable": false
   },
   "outputs": [
    {
     "name": "stdout",
     "output_type": "stream",
     "text": [
      "~~~~~~~~~~~~~~~~~~~~~~~~~~~~~~~~~~~~~~~~~~~~~~~~~~~~~~~~~~~~~~~~~~~~~\n",
      "Running tests\n",
      "\n",
      "---------------------------------------------------------------------\n",
      "Test summary\n",
      "    Passed: 2\n",
      "    Failed: 0\n",
      "[ooooooooook] 100.0% passed\n",
      "\n"
     ]
    }
   ],
   "source": [
    "ok.grade(\"q1_3\");"
   ]
  },
  {
   "cell_type": "markdown",
   "metadata": {},
   "source": [
    "Now we want to make a scatter plot of the frame coordinates, where the dots for horizontal straight-line movements have one color and the dots for vertical straight-line movements have another color.  Here is a scatter plot without colors:"
   ]
  },
  {
   "cell_type": "code",
   "execution_count": 22,
   "metadata": {
    "deletable": false
   },
   "outputs": [
    {
     "data": {
      "image/png": "[encoded data removed]",
      "text/plain": [
       "<Figure size 360x360 with 1 Axes>"
      ]
     },
     "metadata": {},
     "output_type": "display_data"
    }
   ],
   "source": [
    "train_two_features.scatter(\"Frame 1 x\", \"Frame 1 y\")"
   ]
  },
  {
   "cell_type": "markdown",
   "metadata": {},
   "source": [
    "This isn't useful because we don't know which dots are which movement type.  We need to tell Python how to color the dots.  Let's use gold for vertical and blue for horizontal movements.\n",
    "\n",
    "`scatter` takes an extra argument called `colors` that's the name of an extra column in the table that contains colors (strings like \"red\" or \"orange\") for each row.  So we need to create a table like this:\n",
    "\n",
    "|Frame 1 x|Frame 1 y|Movement type|Color|\n",
    "|-|-|-|-|\n",
    "|0.522768|0.769731|vertical straight-line|gold|\n",
    "|0.179546|0.658986|horizontal straight-line|blue|\n",
    "|...|...|...|...|"
   ]
  },
  {
   "cell_type": "markdown",
   "metadata": {
    "deletable": false,
    "editable": false
   },
   "source": [
    "<div class=\"hide\">\\pagebreak</div>\n",
    "\n",
    "#### Question 4\n",
    "\n",
    "In the cell below, create a table named `with_colors`.  It should have the same columns as the example table above, but with a row for each row in `train_two_features`. Then, create a scatter plot of your data.\n",
    "\n",
    "<!--\n",
    "BEGIN QUESTION\n",
    "name: q1_4\n",
    "manual: true\n",
    "image: true\n",
    "-->\n",
    "<!-- EXPORT TO PDF -->"
   ]
  },
  {
   "cell_type": "code",
   "execution_count": 23,
   "metadata": {
    "deletable": false,
    "export_pdf": true,
    "manual_grade": true,
    "manual_problem_id": "sign_lang_2"
   },
   "outputs": [
    {
     "data": {
      "image/png": "[encoded data removed]",
      "text/plain": [
       "<Figure size 360x360 with 1 Axes>"
      ]
     },
     "metadata": {},
     "output_type": "display_data"
    }
   ],
   "source": [
    "# You should find the following table useful.\n",
    "type_to_color = Table().with_columns(\n",
    "    \"Movement type\", make_array(\"vertical straight-line\", \"horizontal straight-line\"),\n",
    "    \"Color\",         make_array(\"gold\",                   \"blue\"))\n",
    "\n",
    "with_colors = train_two_features.join('Movement type', type_to_color)\n",
    "with_colors.scatter(\"Frame 1 x\", \"Frame 1 y\", colors=\"Color\")"
   ]
  },
  {
   "cell_type": "markdown",
   "metadata": {
    "deletable": false,
    "editable": false
   },
   "source": [
    "<div class=\"hide\">\\pagebreak</div>\n",
    "\n",
    "#### Question 5\n",
    "\n",
    "Based on the scatter plot, how well will a nearest-neighbor classifier based on only these 2 features (the x- and y-coordinates of the hand position in the first frame) work?  Will it:\n",
    "\n",
    "1. distinguish almost perfectly between vertical and horizontal movements;\n",
    "2. distinguish somewhat well between vertical and horizontal movements, getting some correct but missing a substantial proportion; or\n",
    "3. be basically useless in distinguishing between vertical and horizontal movements?\n",
    "\n",
    "Why?\n",
    "\n",
    "<!--\n",
    "BEGIN QUESTION\n",
    "name: q1_5\n",
    "manual: true\n",
    "-->\n",
    "<!-- EXPORT TO PDF -->"
   ]
  },
  {
   "cell_type": "markdown",
   "metadata": {
    "deletable": false,
    "export_pdf": true,
    "manual_grade": true,
    "manual_problem_id": "sign_lang_3"
   },
   "source": [
    "2 because there is significant overlap between predictions of horizontal and vertical movements that would make it difficult to discern a nearest neighbour classificaton accurately as any test point could be equally close to several points of different movement types. Only points very high or very low on the y-axis can be used to distinguish perfectly or nearly perfectly whether the movement was vertical or horizontal."
   ]
  },
  {
   "cell_type": "markdown",
   "metadata": {},
   "source": [
    "## 2. Classification Potpourri\n"
   ]
  },
  {
   "cell_type": "markdown",
   "metadata": {},
   "source": [
    "Throughout this question, we will aim to discuss some conceptual nuances of classification that often get overlooked when we're focused only on improving our accuracy and building the best classifier possible. "
   ]
  },
  {
   "cell_type": "markdown",
   "metadata": {
    "deletable": false,
    "editable": false
   },
   "source": [
    "#### Question 1\n",
    "\n",
    "What is the point of a test-set? Should we use our test set to find the best possible number of neighbors for a k-NN classifer? Explain. \n",
    "\n",
    "<!--\n",
    "BEGIN QUESTION\n",
    "name: q2_1\n",
    "manual: true\n",
    "-->\n",
    "<!-- EXPORT TO PDF -->"
   ]
  },
  {
   "cell_type": "markdown",
   "metadata": {
    "deletable": false,
    "export_pdf": true,
    "manual_grade": true,
    "manual_problem_id": "potpourri_1"
   },
   "source": [
    "It helps us check if our classification model is accurate by being a set on which to try out our classifier and see what fraction of times it classifies correctly. No, we should use our training set for the purpose because we know the class of the training set and can thus measure distances between new points and known points to get nearest neighbours whereas for test points we are uncertain of their class."
   ]
  },
  {
   "cell_type": "markdown",
   "metadata": {
    "deletable": false,
    "editable": false
   },
   "source": [
    "#### Question 2\n",
    "You have a large dataset which contains three columns. The first two are attributes of the person that might be predictive of whether or not someone has breast-cancer, and the third column indicates whether they have it or not. 99% of the table contains examples of people who do not have breast cancer. \n",
    "\n",
    "Imagine you are trying to use a k-NN classifier to use the first two columns to predict whether or not someone has breast cancer. You split your training and test set up as necessary, you develop a 7-NN classifier, and you notice your classifier predicts every point in the test set to be a person who does not have breast cancer. Is there a problem with your classifier? Explain this phenomenon.   \n",
    "\n",
    "<!--\n",
    "BEGIN QUESTION\n",
    "name: q2_2\n",
    "manual: true\n",
    "-->\n",
    "<!-- EXPORT TO PDF -->"
   ]
  },
  {
   "cell_type": "markdown",
   "metadata": {
    "deletable": false,
    "export_pdf": true,
    "manual_grade": true,
    "manual_problem_id": "potpourri_2"
   },
   "source": [
    "No, the classifier is not the problem. The sample consists of 99% of people who do not have breast cancer, and so when using a k-NN classifier to predict whether or not someone has breast cancer, we will most likely predict that the person does not have breast cancer. Most points on a scatter plot of the data would be points for people without breast cancer. Thus, most nearest neighbours will be near these points and lead us to predict that the person does not have breast cancer. Also, we must consider the idea of subjective probability and acknowledge that someone being tested for breast cancer has displayed signs of it and is thus not a randomly selected member of the population, which is the basis on which we calculated the probability we have."
   ]
  },
  {
   "cell_type": "markdown",
   "metadata": {
    "deletable": false,
    "editable": false
   },
   "source": [
    "#### Question 3\n",
    "You have a training set with data on the characteristics of 35 examples of fruit. 25 of the data points are apples, and the remaining 10 are oranges.\n",
    "\n",
    "You decide to make a k-NN classifier. Assign `k_upper_bound` to the smallest possible k such that the classifier will predict Apple for every point, regardless of how the data is spread out.\n",
    "\n",
    "Imagine that ties are broken at random for even values of k, so there is no guarantee of what will be picked if there is a tie. \n",
    "\n",
    "<!--\n",
    "BEGIN QUESTION\n",
    "name: q2_3\n",
    "manual: false\n",
    "-->\n"
   ]
  },
  {
   "cell_type": "code",
   "execution_count": 24,
   "metadata": {
    "deletable": false
   },
   "outputs": [],
   "source": [
    "k_upper_bound = 21"
   ]
  },
  {
   "cell_type": "code",
   "execution_count": 25,
   "metadata": {
    "deletable": false,
    "editable": false
   },
   "outputs": [
    {
     "name": "stdout",
     "output_type": "stream",
     "text": [
      "~~~~~~~~~~~~~~~~~~~~~~~~~~~~~~~~~~~~~~~~~~~~~~~~~~~~~~~~~~~~~~~~~~~~~\n",
      "Running tests\n",
      "\n",
      "---------------------------------------------------------------------\n",
      "Test summary\n",
      "    Passed: 1\n",
      "    Failed: 0\n",
      "[ooooooooook] 100.0% passed\n",
      "\n"
     ]
    }
   ],
   "source": [
    "ok.grade(\"q2_3\");"
   ]
  },
  {
   "cell_type": "markdown",
   "metadata": {},
   "source": [
    "If you enjoyed classification and want to learn more about the nuances behind it, make sure to continue your data science education by taking Data 100!"
   ]
  },
  {
   "cell_type": "markdown",
   "metadata": {},
   "source": [
    "## Final-Semester Survey\n"
   ]
  },
  {
   "cell_type": "markdown",
   "metadata": {},
   "source": [
    "You can find the end of semester feedback form [here](https://forms.gle/pUkV8Kmc8LAUTm6R9) and the official Berkeley Course Evaluations [here](https://course-evaluations.berkeley.edu). Please take some time to fill the survey out! Data 8 is still a relatively new class, and your feedback helps the class get better every semester!\n",
    "\n",
    "As incentive, if 80% of the course fills this feedback form **and** the official Berkeley Course Evaluations for this course, everyone will receive two points of extra credit!"
   ]
  },
  {
   "cell_type": "code",
   "execution_count": null,
   "metadata": {},
   "outputs": [],
   "source": []
  },
  {
   "cell_type": "markdown",
   "metadata": {},
   "source": [
    "## 4. Submission\n"
   ]
  },
  {
   "cell_type": "markdown",
   "metadata": {
    "collapsed": true
   },
   "source": [
    "Once you're finished, select \"Save and Checkpoint\" in the File menu and then execute the `submit` cell below. The result will contain a link that you can use to check that your assignment has been submitted successfully. If you submit more than once before the deadline, we will only grade your final submission. If you mistakenly submit the wrong one, you can head to [okpy.org](https://okpy.org/) and flag the correct version. To do so, go to the website, click on this assignment, and find the version you would like to have graded. There should be an option to flag that submission for grading!"
   ]
  },
  {
   "cell_type": "code",
   "execution_count": null,
   "metadata": {},
   "outputs": [
    {
     "data": {
      "application/javascript": [
       "IPython.notebook.save_checkpoint();"
      ],
      "text/plain": [
       "<IPython.core.display.Javascript object>"
      ]
     },
     "metadata": {},
     "output_type": "display_data"
    }
   ],
   "source": [
    "_ = ok.submit()"
   ]
  },
  {
   "cell_type": "code",
   "execution_count": 27,
   "metadata": {},
   "outputs": [
    {
     "name": "stdout",
     "output_type": "stream",
     "text": [
      "Running all tests...\n",
      "~~~~~~~~~~~~~~~~~~~~~~~~~~~~~~~~~~~~~~~~~~~~~~~~~~~~~~~~~~~~~~~~~~~~~\n",
      "Running tests\n",
      "\n",
      "---------------------------------------------------------------------\n",
      "Test summary\n",
      "    Passed: 1\n",
      "    Failed: 0\n",
      "[ooooooooook] 100.0% passed\n",
      "\n",
      "~~~~~~~~~~~~~~~~~~~~~~~~~~~~~~~~~~~~~~~~~~~~~~~~~~~~~~~~~~~~~~~~~~~~~\n",
      "Running tests\n",
      "\n",
      "---------------------------------------------------------------------\n",
      "Test summary\n",
      "    Passed: 1\n",
      "    Failed: 0\n",
      "[ooooooooook] 100.0% passed\n",
      "\n",
      "~~~~~~~~~~~~~~~~~~~~~~~~~~~~~~~~~~~~~~~~~~~~~~~~~~~~~~~~~~~~~~~~~~~~~\n",
      "Running tests\n",
      "\n",
      "---------------------------------------------------------------------\n",
      "Test summary\n",
      "    Passed: 2\n",
      "    Failed: 0\n",
      "[ooooooooook] 100.0% passed\n",
      "\n",
      "~~~~~~~~~~~~~~~~~~~~~~~~~~~~~~~~~~~~~~~~~~~~~~~~~~~~~~~~~~~~~~~~~~~~~\n",
      "Running tests\n",
      "\n",
      "---------------------------------------------------------------------\n",
      "Test summary\n",
      "    Passed: 2\n",
      "    Failed: 0\n",
      "[ooooooooook] 100.0% passed\n",
      "\n",
      "Finished running all tests.\n"
     ]
    }
   ],
   "source": [
    "# For your convenience, you can run this cell to run all the tests at once!\n",
    "import os\n",
    "print(\"Running all tests...\")\n",
    "_ = [ok.grade(q[:-3]) for q in os.listdir(\"tests\") if q.startswith('q') and len(q) <= 10]\n",
    "print(\"Finished running all tests.\")"
   ]
  },
  {
   "cell_type": "code",
   "execution_count": null,
   "metadata": {},
   "outputs": [],
   "source": []
  }
 ],
 "metadata": {
  "kernelspec": {
   "display_name": "Python 3",
   "language": "python",
   "name": "python3"
  },
  "language_info": {
   "codemirror_mode": {
    "name": "ipython",
    "version": 3
   },
   "file_extension": ".py",
   "mimetype": "text/x-python",
   "name": "python",
   "nbconvert_exporter": "python",
   "pygments_lexer": "ipython3",
   "version": "3.6.7"
  }
 },
 "nbformat": 4,
 "nbformat_minor": 1
}
